{
 "cells": [
  {
   "cell_type": "markdown",
   "id": "c05140a6",
   "metadata": {},
   "source": [
    "# EXPLORE Data Science Academy Classification Hackathon\n",
    "\n",
    "Overview\n",
    "\n",
    "South Africa is a multicultural society that is characterised by its rich linguistic diversity. Language is an indispensable tool that can be used to deepen democracy and also contribute to the social, cultural, intellectual, economic and political life of the South African society.\n",
    "\n",
    "The country is multilingual with 11 official languages, each of which is guaranteed equal status. Most South Africans are multilingual and able to speak at least two or more of the official languages. With such a multilingual population, it is only obvious that our systems and devices also communicate in multi-languages."
   ]
  },
  {
   "cell_type": "markdown",
   "id": "990942ea",
   "metadata": {},
   "source": [
    "# Problem Statement"
   ]
  },
  {
   "cell_type": "markdown",
   "id": "80150b59",
   "metadata": {},
   "source": [
    "In this challenge, you will take text which is in any of South Africa's 11 Official languages and identify which language the text is in. This is an example of NLP's Language Identification, the task of determining the natural language that a piece of text is written in. "
   ]
  },
  {
   "cell_type": "markdown",
   "id": "4b0e5d6d",
   "metadata": {},
   "source": [
    "Honour Code"
   ]
  },
  {
   "cell_type": "markdown",
   "id": "e77caaf6",
   "metadata": {},
   "source": [
    "I Dineo Moela, confirm - by submitting this document - that the solutions in this notebook, and subsequently my score on the leaderboard, are a result of my own work and that I abide by the EDSA honour code (https://drive.google.com/file/d/1QDCjGZJ8-FmJE3bZdIQNwnJyQKPhHZBn/view?usp=sharing).\n",
    "\n",
    "Non-compliance with the honour code constitutes a material breach of contract."
   ]
  },
  {
   "cell_type": "markdown",
   "id": "281efe8a",
   "metadata": {},
   "source": [
    "# TABLE OF CONTENTS\n",
    "\n",
    "\n",
    "Importing Python Packages \n",
    "\n",
    "\n",
    "Loading the Data \n",
    "\n",
    "\n",
    "Exploritatory Data Analysis \n",
    "\n",
    "\n",
    "Data Pre-Proceessing\n",
    "\n",
    "\n",
    "Model Building \n",
    "\n",
    "\n",
    "Model Selection \n",
    "\n",
    "\n",
    "Model Performance\n",
    "\n",
    "\n",
    "Model Evaluation \n",
    "\n",
    "\n",
    "References "
   ]
  },
  {
   "cell_type": "markdown",
   "id": "3ebd2b67",
   "metadata": {},
   "source": [
    "# Importing Python Packages "
   ]
  },
  {
   "cell_type": "code",
   "execution_count": 1016,
   "id": "7cb8ec82",
   "metadata": {},
   "outputs": [],
   "source": [
    "#importing all required models \n",
    "import nltk\n",
    "import numpy as np \n",
    "import pandas as pd \n",
    "import re \n",
    "import string\n",
    "import matplotlib.pyplot as plt\n",
    "%matplotlib inline \n",
    "import seaborn as sns \n",
    "import warnings\n",
    "warnings.filterwarnings(\"ignore\")\n",
    "\n",
    "from sklearn import preprocessing \n",
    "from sklearn import feature_selection \n",
    "from nltk.tokenize import word_tokenize, TreebankWordTokenizer\n",
    "from nltk import SnowballStemmer, PorterStemmer, LancasterStemmer\n",
    "from nltk.corpus import stopwords\n",
    "from nltk.util import ngrams\n",
    "\n",
    "from sklearn.model_selection import train_test_split, GridSearchCV, cross_val_score\n",
    "from sklearn.linear_model import LogisticRegression \n",
    "from sklearn.svm import LinearSVC, SVC\n",
    "from sklearn.naive_bayes import MultinomialNB\n",
    "from sklearn.feature_extraction.text import TfidfVectorizer\n",
    "from sklearn.neighbors import KNeighborsClassifier\n",
    "from sklearn import metrics\n",
    "from sklearn.metrics import classification_report, accuracy_score \n",
    "from sklearn.svm import SVC\n",
    "from nltk.util import ngrams"
   ]
  },
  {
   "cell_type": "markdown",
   "id": "dd7f1ddc",
   "metadata": {},
   "source": [
    "# Loading the Data"
   ]
  },
  {
   "cell_type": "code",
   "execution_count": 957,
   "id": "8e23cffa",
   "metadata": {},
   "outputs": [],
   "source": [
    "#loading the data \n",
    "df_train = pd.read_csv('train_set.csv')\n",
    "df_test = pd.read_csv('test_set.csv')\n",
    "sample_submission = pd.read_csv('sample_submission.csv')"
   ]
  },
  {
   "cell_type": "code",
   "execution_count": 958,
   "id": "982d1f0c",
   "metadata": {},
   "outputs": [
    {
     "data": {
      "text/html": [
       "<div>\n",
       "<style scoped>\n",
       "    .dataframe tbody tr th:only-of-type {\n",
       "        vertical-align: middle;\n",
       "    }\n",
       "\n",
       "    .dataframe tbody tr th {\n",
       "        vertical-align: top;\n",
       "    }\n",
       "\n",
       "    .dataframe thead th {\n",
       "        text-align: right;\n",
       "    }\n",
       "</style>\n",
       "<table border=\"1\" class=\"dataframe\">\n",
       "  <thead>\n",
       "    <tr style=\"text-align: right;\">\n",
       "      <th></th>\n",
       "      <th>lang_id</th>\n",
       "      <th>text</th>\n",
       "    </tr>\n",
       "  </thead>\n",
       "  <tbody>\n",
       "    <tr>\n",
       "      <th>0</th>\n",
       "      <td>xho</td>\n",
       "      <td>umgaqo-siseko wenza amalungiselelo kumaziko ax...</td>\n",
       "    </tr>\n",
       "    <tr>\n",
       "      <th>1</th>\n",
       "      <td>xho</td>\n",
       "      <td>i-dha iya kuba nobulumko bokubeka umsebenzi na...</td>\n",
       "    </tr>\n",
       "    <tr>\n",
       "      <th>2</th>\n",
       "      <td>eng</td>\n",
       "      <td>the province of kwazulu-natal department of tr...</td>\n",
       "    </tr>\n",
       "    <tr>\n",
       "      <th>3</th>\n",
       "      <td>nso</td>\n",
       "      <td>o netefatša gore o ba file dilo ka moka tše le...</td>\n",
       "    </tr>\n",
       "    <tr>\n",
       "      <th>4</th>\n",
       "      <td>ven</td>\n",
       "      <td>khomishini ya ndinganyiso ya mbeu yo ewa maana...</td>\n",
       "    </tr>\n",
       "  </tbody>\n",
       "</table>\n",
       "</div>"
      ],
      "text/plain": [
       "  lang_id                                               text\n",
       "0     xho  umgaqo-siseko wenza amalungiselelo kumaziko ax...\n",
       "1     xho  i-dha iya kuba nobulumko bokubeka umsebenzi na...\n",
       "2     eng  the province of kwazulu-natal department of tr...\n",
       "3     nso  o netefatša gore o ba file dilo ka moka tše le...\n",
       "4     ven  khomishini ya ndinganyiso ya mbeu yo ewa maana..."
      ]
     },
     "execution_count": 958,
     "metadata": {},
     "output_type": "execute_result"
    }
   ],
   "source": [
    "df_train.head()"
   ]
  },
  {
   "cell_type": "code",
   "execution_count": 959,
   "id": "3dbb495f",
   "metadata": {},
   "outputs": [
    {
     "data": {
      "text/html": [
       "<div>\n",
       "<style scoped>\n",
       "    .dataframe tbody tr th:only-of-type {\n",
       "        vertical-align: middle;\n",
       "    }\n",
       "\n",
       "    .dataframe tbody tr th {\n",
       "        vertical-align: top;\n",
       "    }\n",
       "\n",
       "    .dataframe thead th {\n",
       "        text-align: right;\n",
       "    }\n",
       "</style>\n",
       "<table border=\"1\" class=\"dataframe\">\n",
       "  <thead>\n",
       "    <tr style=\"text-align: right;\">\n",
       "      <th></th>\n",
       "      <th>index</th>\n",
       "      <th>text</th>\n",
       "    </tr>\n",
       "  </thead>\n",
       "  <tbody>\n",
       "    <tr>\n",
       "      <th>0</th>\n",
       "      <td>1</td>\n",
       "      <td>Mmasepala, fa maemo a a kgethegileng a letlele...</td>\n",
       "    </tr>\n",
       "    <tr>\n",
       "      <th>1</th>\n",
       "      <td>2</td>\n",
       "      <td>Uzakwaziswa ngokufaneleko nakungafuneka eminye...</td>\n",
       "    </tr>\n",
       "    <tr>\n",
       "      <th>2</th>\n",
       "      <td>3</td>\n",
       "      <td>Tshivhumbeo tshi fana na ngano dza vhathu.</td>\n",
       "    </tr>\n",
       "    <tr>\n",
       "      <th>3</th>\n",
       "      <td>4</td>\n",
       "      <td>Kube inja nelikati betingevakala kutsi titsini...</td>\n",
       "    </tr>\n",
       "    <tr>\n",
       "      <th>4</th>\n",
       "      <td>5</td>\n",
       "      <td>Winste op buitelandse valuta.</td>\n",
       "    </tr>\n",
       "  </tbody>\n",
       "</table>\n",
       "</div>"
      ],
      "text/plain": [
       "   index                                               text\n",
       "0      1  Mmasepala, fa maemo a a kgethegileng a letlele...\n",
       "1      2  Uzakwaziswa ngokufaneleko nakungafuneka eminye...\n",
       "2      3         Tshivhumbeo tshi fana na ngano dza vhathu.\n",
       "3      4  Kube inja nelikati betingevakala kutsi titsini...\n",
       "4      5                      Winste op buitelandse valuta."
      ]
     },
     "execution_count": 959,
     "metadata": {},
     "output_type": "execute_result"
    }
   ],
   "source": [
    "df_test.head()"
   ]
  },
  {
   "cell_type": "code",
   "execution_count": 960,
   "id": "5c9fa911",
   "metadata": {},
   "outputs": [
    {
     "data": {
      "text/html": [
       "<div>\n",
       "<style scoped>\n",
       "    .dataframe tbody tr th:only-of-type {\n",
       "        vertical-align: middle;\n",
       "    }\n",
       "\n",
       "    .dataframe tbody tr th {\n",
       "        vertical-align: top;\n",
       "    }\n",
       "\n",
       "    .dataframe thead th {\n",
       "        text-align: right;\n",
       "    }\n",
       "</style>\n",
       "<table border=\"1\" class=\"dataframe\">\n",
       "  <thead>\n",
       "    <tr style=\"text-align: right;\">\n",
       "      <th></th>\n",
       "      <th>index</th>\n",
       "      <th>lang_id</th>\n",
       "    </tr>\n",
       "  </thead>\n",
       "  <tbody>\n",
       "    <tr>\n",
       "      <th>0</th>\n",
       "      <td>1</td>\n",
       "      <td>tsn</td>\n",
       "    </tr>\n",
       "    <tr>\n",
       "      <th>1</th>\n",
       "      <td>2</td>\n",
       "      <td>nbl</td>\n",
       "    </tr>\n",
       "  </tbody>\n",
       "</table>\n",
       "</div>"
      ],
      "text/plain": [
       "   index lang_id\n",
       "0      1     tsn\n",
       "1      2     nbl"
      ]
     },
     "execution_count": 960,
     "metadata": {},
     "output_type": "execute_result"
    }
   ],
   "source": [
    "sample_submission.head()"
   ]
  },
  {
   "cell_type": "markdown",
   "id": "9ea89703",
   "metadata": {},
   "source": [
    "# Exploritary Data Analysis (EDA)"
   ]
  },
  {
   "cell_type": "markdown",
   "id": "6d0b6386",
   "metadata": {},
   "source": [
    "The EDA process will assist in getting a better understanding of our data and the relationships between variables. "
   ]
  },
  {
   "cell_type": "code",
   "execution_count": 961,
   "id": "6db3ef12",
   "metadata": {},
   "outputs": [
    {
     "data": {
      "text/html": [
       "<div>\n",
       "<style scoped>\n",
       "    .dataframe tbody tr th:only-of-type {\n",
       "        vertical-align: middle;\n",
       "    }\n",
       "\n",
       "    .dataframe tbody tr th {\n",
       "        vertical-align: top;\n",
       "    }\n",
       "\n",
       "    .dataframe thead th {\n",
       "        text-align: right;\n",
       "    }\n",
       "</style>\n",
       "<table border=\"1\" class=\"dataframe\">\n",
       "  <thead>\n",
       "    <tr style=\"text-align: right;\">\n",
       "      <th></th>\n",
       "      <th>lang_id</th>\n",
       "      <th>text</th>\n",
       "    </tr>\n",
       "  </thead>\n",
       "  <tbody>\n",
       "    <tr>\n",
       "      <th>count</th>\n",
       "      <td>33000</td>\n",
       "      <td>33000</td>\n",
       "    </tr>\n",
       "    <tr>\n",
       "      <th>unique</th>\n",
       "      <td>11</td>\n",
       "      <td>29948</td>\n",
       "    </tr>\n",
       "    <tr>\n",
       "      <th>top</th>\n",
       "      <td>xho</td>\n",
       "      <td>ngokwesekhtjheni yomthetho ophathelene nalokhu...</td>\n",
       "    </tr>\n",
       "    <tr>\n",
       "      <th>freq</th>\n",
       "      <td>3000</td>\n",
       "      <td>17</td>\n",
       "    </tr>\n",
       "  </tbody>\n",
       "</table>\n",
       "</div>"
      ],
      "text/plain": [
       "       lang_id                                               text\n",
       "count    33000                                              33000\n",
       "unique      11                                              29948\n",
       "top        xho  ngokwesekhtjheni yomthetho ophathelene nalokhu...\n",
       "freq      3000                                                 17"
      ]
     },
     "execution_count": 961,
     "metadata": {},
     "output_type": "execute_result"
    }
   ],
   "source": [
    "df_train.describe()"
   ]
  },
  {
   "cell_type": "code",
   "execution_count": 962,
   "id": "b5710c74",
   "metadata": {},
   "outputs": [
    {
     "data": {
      "text/html": [
       "<div>\n",
       "<style scoped>\n",
       "    .dataframe tbody tr th:only-of-type {\n",
       "        vertical-align: middle;\n",
       "    }\n",
       "\n",
       "    .dataframe tbody tr th {\n",
       "        vertical-align: top;\n",
       "    }\n",
       "\n",
       "    .dataframe thead th {\n",
       "        text-align: right;\n",
       "    }\n",
       "</style>\n",
       "<table border=\"1\" class=\"dataframe\">\n",
       "  <thead>\n",
       "    <tr style=\"text-align: right;\">\n",
       "      <th></th>\n",
       "      <th>index</th>\n",
       "    </tr>\n",
       "  </thead>\n",
       "  <tbody>\n",
       "    <tr>\n",
       "      <th>count</th>\n",
       "      <td>5682.000000</td>\n",
       "    </tr>\n",
       "    <tr>\n",
       "      <th>mean</th>\n",
       "      <td>2841.500000</td>\n",
       "    </tr>\n",
       "    <tr>\n",
       "      <th>std</th>\n",
       "      <td>1640.396446</td>\n",
       "    </tr>\n",
       "    <tr>\n",
       "      <th>min</th>\n",
       "      <td>1.000000</td>\n",
       "    </tr>\n",
       "    <tr>\n",
       "      <th>25%</th>\n",
       "      <td>1421.250000</td>\n",
       "    </tr>\n",
       "    <tr>\n",
       "      <th>50%</th>\n",
       "      <td>2841.500000</td>\n",
       "    </tr>\n",
       "    <tr>\n",
       "      <th>75%</th>\n",
       "      <td>4261.750000</td>\n",
       "    </tr>\n",
       "    <tr>\n",
       "      <th>max</th>\n",
       "      <td>5682.000000</td>\n",
       "    </tr>\n",
       "  </tbody>\n",
       "</table>\n",
       "</div>"
      ],
      "text/plain": [
       "             index\n",
       "count  5682.000000\n",
       "mean   2841.500000\n",
       "std    1640.396446\n",
       "min       1.000000\n",
       "25%    1421.250000\n",
       "50%    2841.500000\n",
       "75%    4261.750000\n",
       "max    5682.000000"
      ]
     },
     "execution_count": 962,
     "metadata": {},
     "output_type": "execute_result"
    }
   ],
   "source": [
    "df_test.describe()"
   ]
  },
  {
   "cell_type": "markdown",
   "id": "0fcfb479",
   "metadata": {},
   "source": [
    "Data Description"
   ]
  },
  {
   "cell_type": "code",
   "execution_count": 963,
   "id": "ab136725",
   "metadata": {},
   "outputs": [
    {
     "name": "stdout",
     "output_type": "stream",
     "text": [
      "<class 'pandas.core.frame.DataFrame'>\n",
      "RangeIndex: 33000 entries, 0 to 32999\n",
      "Data columns (total 2 columns):\n",
      " #   Column   Non-Null Count  Dtype \n",
      "---  ------   --------------  ----- \n",
      " 0   lang_id  33000 non-null  object\n",
      " 1   text     33000 non-null  object\n",
      "dtypes: object(2)\n",
      "memory usage: 515.8+ KB\n"
     ]
    }
   ],
   "source": [
    "df_train.info()"
   ]
  },
  {
   "cell_type": "code",
   "execution_count": 964,
   "id": "2b93fa81",
   "metadata": {},
   "outputs": [
    {
     "name": "stdout",
     "output_type": "stream",
     "text": [
      "<class 'pandas.core.frame.DataFrame'>\n",
      "RangeIndex: 5682 entries, 0 to 5681\n",
      "Data columns (total 2 columns):\n",
      " #   Column  Non-Null Count  Dtype \n",
      "---  ------  --------------  ----- \n",
      " 0   index   5682 non-null   int64 \n",
      " 1   text    5682 non-null   object\n",
      "dtypes: int64(1), object(1)\n",
      "memory usage: 88.9+ KB\n"
     ]
    }
   ],
   "source": [
    "df_test.info()"
   ]
  },
  {
   "cell_type": "code",
   "execution_count": 965,
   "id": "0f703f86",
   "metadata": {},
   "outputs": [
    {
     "data": {
      "text/plain": [
       "(33000, 2)"
      ]
     },
     "execution_count": 965,
     "metadata": {},
     "output_type": "execute_result"
    }
   ],
   "source": [
    "df_train.shape"
   ]
  },
  {
   "cell_type": "code",
   "execution_count": 966,
   "id": "a2b902c5",
   "metadata": {},
   "outputs": [
    {
     "data": {
      "text/plain": [
       "(5682, 2)"
      ]
     },
     "execution_count": 966,
     "metadata": {},
     "output_type": "execute_result"
    }
   ],
   "source": [
    "df_test.shape"
   ]
  },
  {
   "cell_type": "markdown",
   "id": "9d7f2658",
   "metadata": {},
   "source": [
    "Null values lookup "
   ]
  },
  {
   "cell_type": "code",
   "execution_count": 967,
   "id": "1c2938a7",
   "metadata": {},
   "outputs": [
    {
     "data": {
      "text/plain": [
       "lang_id    0\n",
       "text       0\n",
       "dtype: int64"
      ]
     },
     "execution_count": 967,
     "metadata": {},
     "output_type": "execute_result"
    }
   ],
   "source": [
    "df_train.isna().sum()"
   ]
  },
  {
   "cell_type": "code",
   "execution_count": 968,
   "id": "1974bc15",
   "metadata": {},
   "outputs": [
    {
     "data": {
      "text/plain": [
       "index    0\n",
       "text     0\n",
       "dtype: int64"
      ]
     },
     "execution_count": 968,
     "metadata": {},
     "output_type": "execute_result"
    }
   ],
   "source": [
    "df_test.isna().sum()"
   ]
  },
  {
   "cell_type": "markdown",
   "id": "16da3014",
   "metadata": {},
   "source": [
    "Visuals "
   ]
  },
  {
   "cell_type": "code",
   "execution_count": 969,
   "id": "041a4d6f",
   "metadata": {},
   "outputs": [
    {
     "data": {
      "image/png": "[encoded data removed]",
      "text/plain": [
       "<Figure size 432x288 with 1 Axes>"
      ]
     },
     "metadata": {
      "needs_background": "light"
     },
     "output_type": "display_data"
    }
   ],
   "source": [
    "df_train['lang_id'].value_counts().plot(kind= 'bar')\n",
    "plt.show()"
   ]
  },
  {
   "cell_type": "code",
   "execution_count": 970,
   "id": "c14fb0f3",
   "metadata": {},
   "outputs": [
    {
     "data": {
      "text/plain": [
       "xho    3000\n",
       "eng    3000\n",
       "nso    3000\n",
       "ven    3000\n",
       "tsn    3000\n",
       "nbl    3000\n",
       "zul    3000\n",
       "ssw    3000\n",
       "tso    3000\n",
       "sot    3000\n",
       "afr    3000\n",
       "Name: lang_id, dtype: int64"
      ]
     },
     "execution_count": 970,
     "metadata": {},
     "output_type": "execute_result"
    }
   ],
   "source": [
    "df_train.lang_id.value_counts()"
   ]
  },
  {
   "cell_type": "markdown",
   "id": "b439e476",
   "metadata": {},
   "source": [
    "# Data Pre-processing  "
   ]
  },
  {
   "cell_type": "markdown",
   "id": "751801cd",
   "metadata": {},
   "source": [
    "1. Removing the Noise "
   ]
  },
  {
   "cell_type": "code",
   "execution_count": 971,
   "id": "44afce62",
   "metadata": {},
   "outputs": [],
   "source": [
    "#removing all links and url's in the test data \n",
    "pattern_url = r'http[s]?://(?:[A-Za-z]|[0-9]|[$-_@.&+]|[!*\\(\\),]|(?:%[0-9A-Fa-f][0-9A-Fa-f]))+'\n",
    "subs_url = r'url-web'\n",
    "df_test['text'] = df_test['text'].replace(to_replace = pattern_url, value = subs_url, regex = True)"
   ]
  },
  {
   "cell_type": "code",
   "execution_count": 972,
   "id": "e7d3e421",
   "metadata": {},
   "outputs": [
    {
     "data": {
      "text/html": [
       "<div>\n",
       "<style scoped>\n",
       "    .dataframe tbody tr th:only-of-type {\n",
       "        vertical-align: middle;\n",
       "    }\n",
       "\n",
       "    .dataframe tbody tr th {\n",
       "        vertical-align: top;\n",
       "    }\n",
       "\n",
       "    .dataframe thead th {\n",
       "        text-align: right;\n",
       "    }\n",
       "</style>\n",
       "<table border=\"1\" class=\"dataframe\">\n",
       "  <thead>\n",
       "    <tr style=\"text-align: right;\">\n",
       "      <th></th>\n",
       "      <th>index</th>\n",
       "      <th>text</th>\n",
       "    </tr>\n",
       "  </thead>\n",
       "  <tbody>\n",
       "    <tr>\n",
       "      <th>0</th>\n",
       "      <td>1</td>\n",
       "      <td>Mmasepala, fa maemo a a kgethegileng a letlele...</td>\n",
       "    </tr>\n",
       "    <tr>\n",
       "      <th>1</th>\n",
       "      <td>2</td>\n",
       "      <td>Uzakwaziswa ngokufaneleko nakungafuneka eminye...</td>\n",
       "    </tr>\n",
       "    <tr>\n",
       "      <th>2</th>\n",
       "      <td>3</td>\n",
       "      <td>Tshivhumbeo tshi fana na ngano dza vhathu.</td>\n",
       "    </tr>\n",
       "    <tr>\n",
       "      <th>3</th>\n",
       "      <td>4</td>\n",
       "      <td>Kube inja nelikati betingevakala kutsi titsini...</td>\n",
       "    </tr>\n",
       "    <tr>\n",
       "      <th>4</th>\n",
       "      <td>5</td>\n",
       "      <td>Winste op buitelandse valuta.</td>\n",
       "    </tr>\n",
       "  </tbody>\n",
       "</table>\n",
       "</div>"
      ],
      "text/plain": [
       "   index                                               text\n",
       "0      1  Mmasepala, fa maemo a a kgethegileng a letlele...\n",
       "1      2  Uzakwaziswa ngokufaneleko nakungafuneka eminye...\n",
       "2      3         Tshivhumbeo tshi fana na ngano dza vhathu.\n",
       "3      4  Kube inja nelikati betingevakala kutsi titsini...\n",
       "4      5                      Winste op buitelandse valuta."
      ]
     },
     "execution_count": 972,
     "metadata": {},
     "output_type": "execute_result"
    }
   ],
   "source": [
    "df_test.head()"
   ]
  },
  {
   "cell_type": "markdown",
   "id": "d87f1268",
   "metadata": {},
   "source": [
    " 2. Removing Punctuation"
   ]
  },
  {
   "cell_type": "markdown",
   "id": "0e34470e",
   "metadata": {},
   "source": [
    "Train Data"
   ]
  },
  {
   "cell_type": "code",
   "execution_count": 973,
   "id": "31a64b9d",
   "metadata": {},
   "outputs": [],
   "source": [
    "#coverting data to lower case \n",
    "df_train['text'] = df_train['text'].str.lower()"
   ]
  },
  {
   "cell_type": "code",
   "execution_count": 974,
   "id": "38068e38",
   "metadata": {},
   "outputs": [
    {
     "name": "stdout",
     "output_type": "stream",
     "text": [
      "!\"#$%&'()*+,-./:;<=>?@[\\]^_`{|}~\n"
     ]
    }
   ],
   "source": [
    "#importing the punctuation\n",
    "import string \n",
    "print(string.punctuation)"
   ]
  },
  {
   "cell_type": "code",
   "execution_count": 975,
   "id": "1dc397eb",
   "metadata": {},
   "outputs": [],
   "source": [
    "#function to remove punctuation\n",
    "def remove_punctuation(df_train):\n",
    "    return ''.join([l for l in df_train if l not in string.punctuation])"
   ]
  },
  {
   "cell_type": "code",
   "execution_count": 977,
   "id": "4a7f8d6c",
   "metadata": {},
   "outputs": [
    {
     "data": {
      "text/plain": [
       "'ntle le tataiso ena eo ho nehelanweng ka yona ka hodimo ha ho tshwauwa ditema tsa kgokahano tse telele le tse kgutshwane bahlahlobi ba lekodisise hantle sebopeho ho ya ka mofuta wa tema sebopeho se fapana ho tloha temeng e nngwe ho isa ho e nngwe'"
      ]
     },
     "execution_count": 977,
     "metadata": {},
     "output_type": "execute_result"
    }
   ],
   "source": [
    "#punctuation removed but some still sips in \n",
    "df_train['text'] = df_train['text'].apply(remove_punctuation)\n",
    "df_train['text'].iloc[26858]"
   ]
  },
  {
   "cell_type": "markdown",
   "id": "4bbf770e",
   "metadata": {},
   "source": [
    "Test Data"
   ]
  },
  {
   "cell_type": "code",
   "execution_count": 980,
   "id": "89734766",
   "metadata": {},
   "outputs": [],
   "source": [
    "#data cleaning for the test data \n",
    "df_test['text'] = df_test['text'].str.lower()"
   ]
  },
  {
   "cell_type": "code",
   "execution_count": 981,
   "id": "d7a85830",
   "metadata": {},
   "outputs": [
    {
     "name": "stdout",
     "output_type": "stream",
     "text": [
      "!\"#$%&'()*+,-./:;<=>?@[\\]^_`{|}~\n"
     ]
    }
   ],
   "source": [
    "import string \n",
    "print(string.punctuation)"
   ]
  },
  {
   "cell_type": "code",
   "execution_count": 982,
   "id": "e0236e3c",
   "metadata": {},
   "outputs": [],
   "source": [
    "def remove_punctuation(df_test):\n",
    "    return ''.join([l for l in df_test if l not in string.punctuation])"
   ]
  },
  {
   "cell_type": "raw",
   "id": "a82cfa91",
   "metadata": {},
   "source": [
    "df_test['text'] = df_test['text'].apply(remove_punctuation)\n",
    "df_test['text'].iloc[5000]"
   ]
  },
  {
   "cell_type": "markdown",
   "id": "ec087c11",
   "metadata": {},
   "source": [
    "3. Tokenizer "
   ]
  },
  {
   "cell_type": "markdown",
   "id": "9b8beeee",
   "metadata": {},
   "source": [
    "Train Data "
   ]
  },
  {
   "cell_type": "code",
   "execution_count": 988,
   "id": "cf627ba7",
   "metadata": {},
   "outputs": [],
   "source": [
    "#train data broken down into tokens \n",
    "tokeniser = TreebankWordTokenizer()\n",
    "df_train['tokens'] = df_train['text'].apply(tokeniser.tokenize)"
   ]
  },
  {
   "cell_type": "code",
   "execution_count": 989,
   "id": "8b1d7d88",
   "metadata": {},
   "outputs": [
    {
     "data": {
      "text/plain": [
       "['prof',\n",
       " 'frikkie',\n",
       " 'van',\n",
       " 'niekerk',\n",
       " 'mokaedi',\n",
       " 'wa',\n",
       " 'setheo',\n",
       " 'sa',\n",
       " 'merero',\n",
       " 'ya',\n",
       " 'badiri',\n",
       " 'baithuti',\n",
       " 'boitshimololedi',\n",
       " 'le',\n",
       " 'dipatlisiso',\n",
       " 'o',\n",
       " 'ne',\n",
       " 'a',\n",
       " 'bolelela',\n",
       " 'hercevigil',\n",
       " 'ka',\n",
       " 'ga',\n",
       " 'hisetori',\n",
       " 'ya',\n",
       " 'yunibesithi',\n",
       " 'gammogo',\n",
       " 'le',\n",
       " 'photefolio',\n",
       " 'ya',\n",
       " 'yona',\n",
       " 'ya',\n",
       " 'ditshwanelo',\n",
       " 'tsa',\n",
       " 'botlhalefi']"
      ]
     },
     "execution_count": 989,
     "metadata": {},
     "output_type": "execute_result"
    }
   ],
   "source": [
    "#text has been tokenized \n",
    "df_train['tokens'].iloc[50]"
   ]
  },
  {
   "cell_type": "markdown",
   "id": "a8145083",
   "metadata": {},
   "source": [
    "Test Data "
   ]
  },
  {
   "cell_type": "code",
   "execution_count": 990,
   "id": "bf508b74",
   "metadata": {},
   "outputs": [],
   "source": [
    "#same process as above \n",
    "df_test['tokens'] = df_test['text'].apply(tokeniser.tokenize)"
   ]
  },
  {
   "cell_type": "code",
   "execution_count": 991,
   "id": "ce72bcc2",
   "metadata": {},
   "outputs": [
    {
     "data": {
      "text/plain": [
       "['hodima',\n",
       " 'moo',\n",
       " ',',\n",
       " 'ditlwaelo',\n",
       " 'tsa',\n",
       " 'tshebetso',\n",
       " ',',\n",
       " 'ka',\n",
       " 'bobedi',\n",
       " 'ka',\n",
       " 'ho',\n",
       " 'ya',\n",
       " 'ka',\n",
       " 'ho',\n",
       " 'ruta',\n",
       " 'le',\n",
       " 'ho',\n",
       " 'ithuta',\n",
       " ',',\n",
       " 'di',\n",
       " 'bontsha',\n",
       " 'ho',\n",
       " 'ba',\n",
       " 'teng',\n",
       " 'ho',\n",
       " 'bakang',\n",
       " 'matshwenyeho',\n",
       " 'ha',\n",
       " 'dikarohano',\n",
       " 'tsa',\n",
       " 'setjhaba',\n",
       " 'tsa',\n",
       " 'nakong',\n",
       " 'e',\n",
       " 'fetileng',\n",
       " '.']"
      ]
     },
     "execution_count": 991,
     "metadata": {},
     "output_type": "execute_result"
    }
   ],
   "source": [
    "df_test['tokens'].iloc[50]"
   ]
  },
  {
   "cell_type": "markdown",
   "id": "0b74761a",
   "metadata": {},
   "source": [
    "3. Stemming the Data "
   ]
  },
  {
   "cell_type": "markdown",
   "id": "4c4ad653",
   "metadata": {},
   "source": [
    "Train Data "
   ]
  },
  {
   "cell_type": "code",
   "execution_count": 992,
   "id": "6f89c8a3",
   "metadata": {},
   "outputs": [],
   "source": [
    "#loading the stemmer. SA Multilingual languages not available  \n",
    "stemmer = SnowballStemmer('english')"
   ]
  },
  {
   "cell_type": "code",
   "execution_count": 993,
   "id": "545b601d",
   "metadata": {},
   "outputs": [],
   "source": [
    "#defining the stemmer function\n",
    "def train_stemmer(df_train, stemmer):\n",
    "    return [stemmer.stem(word) for word in df_train]"
   ]
  },
  {
   "cell_type": "markdown",
   "id": "e526a8cc",
   "metadata": {},
   "source": [
    "Test Data "
   ]
  },
  {
   "cell_type": "code",
   "execution_count": 994,
   "id": "04cd502a",
   "metadata": {},
   "outputs": [],
   "source": [
    "#defining the stemmer function\n",
    "stemma = SnowballStemmer('english')"
   ]
  },
  {
   "cell_type": "code",
   "execution_count": 995,
   "id": "36737f48",
   "metadata": {},
   "outputs": [],
   "source": [
    "#producing results of the test data \n",
    "def test_stemmer(df_test, stemmer):\n",
    "    return [stemma.stem(word) for word in df_test]"
   ]
  },
  {
   "cell_type": "markdown",
   "id": "77efe797",
   "metadata": {},
   "source": [
    "4. Stop Words "
   ]
  },
  {
   "cell_type": "markdown",
   "id": "efd31962",
   "metadata": {},
   "source": [
    "Train Data "
   ]
  },
  {
   "cell_type": "code",
   "execution_count": 996,
   "id": "266f8304",
   "metadata": {},
   "outputs": [],
   "source": [
    "#limited to English in this data set \n",
    "def remove_stop_words_train(df_train):\n",
    "    return [d for d in df_train if d not in stopwords.words('english')]"
   ]
  },
  {
   "cell_type": "markdown",
   "id": "d831deb9",
   "metadata": {},
   "source": [
    "Test Data "
   ]
  },
  {
   "cell_type": "code",
   "execution_count": 997,
   "id": "cfa520c1",
   "metadata": {},
   "outputs": [],
   "source": [
    "#removing the english stop words \n",
    "def remove_stop_words_test(df_test):\n",
    "    return [t for t in df_test if t not in stopwords.words('english')]"
   ]
  },
  {
   "cell_type": "markdown",
   "id": "126998e6",
   "metadata": {},
   "source": [
    "5. Bag of Words "
   ]
  },
  {
   "cell_type": "code",
   "execution_count": 998,
   "id": "38003a34",
   "metadata": {},
   "outputs": [],
   "source": [
    "def bag_of_words_count(words, word_dict={}):\n",
    "    for word in words:\n",
    "        if word in word_dict.keys():\n",
    "            word_dict[word] += 1\n",
    "        else: \n",
    "            word_dict[word] = 1\n",
    "    return word_dict"
   ]
  },
  {
   "cell_type": "code",
   "execution_count": 999,
   "id": "b84e8d12",
   "metadata": {},
   "outputs": [],
   "source": [
    "type_labels = list(df_train.lang_id.unique())"
   ]
  },
  {
   "cell_type": "code",
   "execution_count": 1000,
   "id": "57e5a207",
   "metadata": {},
   "outputs": [],
   "source": [
    "lang = {}\n",
    "for l in type_labels:\n",
    "    df = df_train.groupby('lang_id')\n",
    "    lang[l] = {}\n",
    "    for row in df.get_group(l)['tokens']:\n",
    "        lang[l] = bag_of_words_count(row, lang[l])"
   ]
  },
  {
   "cell_type": "code",
   "execution_count": 1001,
   "id": "feffa767",
   "metadata": {},
   "outputs": [],
   "source": [
    "#Next, we create a list of all of the unique words\n",
    "all_words = set()\n",
    "for l in type_labels:\n",
    "    for word in lang[l]:\n",
    "        all_words.add(word)"
   ]
  },
  {
   "cell_type": "code",
   "execution_count": 1002,
   "id": "a1947101",
   "metadata": {},
   "outputs": [],
   "source": [
    "#This was done so that we can create a combined bag of words dictionary for all the words in the text.\n",
    "\n",
    "lang['all'] = {}\n",
    "for l in type_labels:\n",
    "    for word in all_words:\n",
    "        if word in lang[l].keys():\n",
    "            if word in lang['all']:\n",
    "                lang['all'][word] += lang[l][word]\n",
    "            else:\n",
    "                lang['all'][word] = lang[l][word]"
   ]
  },
  {
   "cell_type": "code",
   "execution_count": 1003,
   "id": "bda0d5af",
   "metadata": {},
   "outputs": [
    {
     "data": {
      "text/plain": [
       "1223491"
      ]
     },
     "execution_count": 1003,
     "metadata": {},
     "output_type": "execute_result"
    }
   ],
   "source": [
    "#Now we can easily calculate how many words there are in total.\n",
    "total_words = sum([v for v in lang['all'].values()])\n",
    "total_words"
   ]
  },
  {
   "cell_type": "code",
   "execution_count": 1004,
   "id": "2e369511",
   "metadata": {},
   "outputs": [
    {
     "data": {
      "text/plain": [
       "Text(0.5, 0, 'word frequency')"
      ]
     },
     "execution_count": 1004,
     "metadata": {},
     "output_type": "execute_result"
    },
    {
     "data": {
      "image/png": "[encoded data removed]",
      "text/plain": [
       "<Figure size 432x288 with 1 Axes>"
      ]
     },
     "metadata": {
      "needs_background": "light"
     },
     "output_type": "display_data"
    }
   ],
   "source": [
    "#Let's take a look at the distribution of words which occur less than 10 times in the whole dataset.\n",
    "_= plt.hist([v for v in lang['all'].values() if v <10], bins =10)\n",
    "plt.ylabel(\"# of words\")\n",
    "plt.xlabel(\"word frequency\")"
   ]
  },
  {
   "cell_type": "code",
   "execution_count": 1005,
   "id": "43f312bc",
   "metadata": {},
   "outputs": [
    {
     "data": {
      "text/plain": [
       "77259"
      ]
     },
     "execution_count": 1005,
     "metadata": {},
     "output_type": "execute_result"
    }
   ],
   "source": [
    "#There are a lot of words that only appear once! We'll print out that value here.\n",
    "len([v for v in lang['all'].values() if v == 1])"
   ]
  },
  {
   "cell_type": "code",
   "execution_count": 1006,
   "id": "d7479d56",
   "metadata": {},
   "outputs": [
    {
     "name": "stdout",
     "output_type": "stream",
     "text": [
      "['nezigwebo', 'wayokuthi', 'ngokokulingana', 'kunobulungisa', 'abaphetheyo', 'echatshazelwa', 'ngebhongo', 'usemgangathweni', 'unesinye', 'kukudlala', 'kwentlanganiso', 'kwigazetthi', 'osondela', 'lokusingatha', 'ifikelela', 'iphelisiwe', 'nezazisi', 'baxhomekeka', 'njengomncedisijaji', 'abathathizigqibo', 'ephinde', 'alukwamkeleka', 'okuyidlalileyo', 'liyakuhlomela', 'ingaguqukanga', 'unesidanga', 'ndiyanqanda', 'sivota', 'libekho', 'amangqina', 'zingeloncedo', 'ezilalini', 'kwinkqubosikhokelo', 'kufanelwe', 'nakwizikhokelo', 'ingosuleleka', 'evile', 'zohlolongqondo', 'lambrechts', 'mthathinxaxheba', 'ngotyelelo', 'enokukhetha', 'ukuzigcina', 'aziiarhente', 'kumondli', 'bangakuqeqeshelwanga', 'nkathalelo', 'okungangxamisekanga', 'yayisesokugqibela', 'kwakumqolo', 'ligunyaziswe', 'mdlaio', 'ezinokubona', 'ingaqini', 'kubathuthi', 'kuluxanduva', 'oluhlalisana', 'loorhulumente', 'lukawonkewonke', 'igaba', 'ngokufaneleyo', 'axelele', 'ekude', 'beenqobo', 'yemisintsi', 'ubalaseleyo', 'tumente', 'eyenkanga', 'amthanda', 'kwafa', 'nguquko', 'lingayekeli', 'loluntsha', 'iinternational', 'nesivuno', 'wengezelele', 'lwathi', 'izibane', 'kwaphuhla', 'siyiphindaphinde', 'isihluzo', 'ukubhekiselela', 'ngokucetywa', 'ndigqibele', 'wokudibanisa', 'nakulawo', 'bubungqina', 'yabameli', 'zomphefumlo', 'nefani', 'kwanezibhengezo', 'kuhlawuliwe', 'ezibulunga', 'engekhoyo', 'lokuzimasa', 'sitya', 'ngokwezikhokelo', 'enyukayo', 'zolunto', 'ngokwemalike']\n"
     ]
    }
   ],
   "source": [
    "#What kind of words do you think would appear once out of roughly 8 million words? Let's print out a few of these rare words.\n",
    "\n",
    "rare_words = [k for k, v in lang['all'].items() if v==1]\n",
    "print(rare_words[:100])"
   ]
  },
  {
   "cell_type": "code",
   "execution_count": 1007,
   "id": "1e859773",
   "metadata": {},
   "outputs": [
    {
     "name": "stdout",
     "output_type": "stream",
     "text": [
      "13223\n",
      "959473\n"
     ]
    }
   ],
   "source": [
    "# how many words appear more than 10 times?\n",
    "# how many words of the total does that account for?\n",
    "print(len([v for v in lang['all'].values() if v >= 10]))\n",
    "occurs_more_than_10_times = sum([v for v in lang['all'].values() if v >= 10])\n",
    "print(occurs_more_than_10_times)"
   ]
  },
  {
   "cell_type": "code",
   "execution_count": 1008,
   "id": "51c70e40",
   "metadata": {},
   "outputs": [
    {
     "data": {
      "text/plain": [
       "0.7842092831087437"
      ]
     },
     "execution_count": 1008,
     "metadata": {},
     "output_type": "execute_result"
    }
   ],
   "source": [
    "occurs_more_than_10_times/total_words"
   ]
  },
  {
   "cell_type": "markdown",
   "id": "f1b7a4fd",
   "metadata": {},
   "source": [
    "6. Removing Numbers or Digits "
   ]
  },
  {
   "cell_type": "markdown",
   "id": "0dc83041",
   "metadata": {},
   "source": [
    "Train Data "
   ]
  },
  {
   "cell_type": "code",
   "execution_count": 1011,
   "id": "368fdeb4",
   "metadata": {},
   "outputs": [],
   "source": [
    "df_train['text']=df_train['text'].apply(lambda x: re.sub('\\w*\\d\\w*','', x))"
   ]
  },
  {
   "cell_type": "markdown",
   "id": "2b9aeb23",
   "metadata": {},
   "source": [
    "Test Data "
   ]
  },
  {
   "cell_type": "code",
   "execution_count": 1012,
   "id": "a6425bc9",
   "metadata": {},
   "outputs": [],
   "source": [
    "df_test['text']=df_test['text'].apply(lambda x: re.sub('\\w*\\d\\w*','', x))"
   ]
  },
  {
   "cell_type": "markdown",
   "id": "06d57d7c",
   "metadata": {},
   "source": [
    "The methods used above will insure the model is able to absorb our data, process it and predict the necessary results. "
   ]
  },
  {
   "cell_type": "markdown",
   "id": "2aff96b6",
   "metadata": {},
   "source": [
    "# Model Building "
   ]
  },
  {
   "cell_type": "markdown",
   "id": "91befecd",
   "metadata": {},
   "source": [
    "Assigning Variables "
   ]
  },
  {
   "cell_type": "code",
   "execution_count": 1013,
   "id": "9bc9464a",
   "metadata": {},
   "outputs": [],
   "source": [
    "#labels \n",
    "y = df_train['lang_id']\n",
    "\n",
    "#features \n",
    "X = df_train['text']"
   ]
  },
  {
   "cell_type": "markdown",
   "id": "9c5f3ed9",
   "metadata": {},
   "source": [
    "Term Frequency Inverse Document Frequency - TfidfVectorizer - It helps us in dealing with most frequent words that appear in our dataset. "
   ]
  },
  {
   "cell_type": "code",
   "execution_count": 1017,
   "id": "44cbd70f",
   "metadata": {},
   "outputs": [],
   "source": [
    "vt = TfidfVectorizer(min_df=2, ngram_range=(1,2))\n",
    "X_transformed = vt.fit_transform(X)"
   ]
  },
  {
   "cell_type": "markdown",
   "id": "77877351",
   "metadata": {},
   "source": [
    "Spliting the Data "
   ]
  },
  {
   "cell_type": "code",
   "execution_count": 1018,
   "id": "ae79ab8a",
   "metadata": {},
   "outputs": [],
   "source": [
    "#splitting our data into test and train \n",
    "X_train, X_test, y_train, y_test = train_test_split(X_transformed, y, test_size = 0.20, random_state = 42)"
   ]
  },
  {
   "cell_type": "markdown",
   "id": "ef2b2305",
   "metadata": {},
   "source": [
    "# Model Selection"
   ]
  },
  {
   "cell_type": "markdown",
   "id": "daf2728f",
   "metadata": {},
   "source": [
    "There are three models I will be testing for this exam. The K-Nearest Neighbors, Logistic Regression and Multinomial Naive Bayes. I will generate a classification report to show how each model performs. "
   ]
  },
  {
   "cell_type": "markdown",
   "id": "8bd18307",
   "metadata": {},
   "source": [
    "1. K-Nearest Neighbors "
   ]
  },
  {
   "cell_type": "code",
   "execution_count": 1019,
   "id": "0da7463f",
   "metadata": {},
   "outputs": [
    {
     "data": {
      "text/plain": [
       "KNeighborsClassifier()"
      ]
     },
     "execution_count": 1019,
     "metadata": {},
     "output_type": "execute_result"
    }
   ],
   "source": [
    "#defining and fitting the regression\n",
    "Knn_mod = KNeighborsClassifier(n_neighbors=5)\n",
    "Knn_mod.fit(X_train, y_train)"
   ]
  },
  {
   "cell_type": "code",
   "execution_count": 1032,
   "id": "7e8536fc",
   "metadata": {
    "scrolled": true
   },
   "outputs": [
    {
     "name": "stdout",
     "output_type": "stream",
     "text": [
      "The accuracy score of the K-Nearest Neighbors is: 0.9757575757575757\n",
      "\n",
      "\n",
      "Classification Report:\n",
      "\n",
      "               precision    recall  f1-score   support\n",
      "\n",
      "         afr       0.99      1.00      1.00       583\n",
      "         eng       0.99      1.00      0.99       615\n",
      "         nbl       0.94      0.97      0.95       583\n",
      "         nso       0.96      0.99      0.97       625\n",
      "         sot       0.99      0.98      0.98       618\n",
      "         ssw       0.98      0.97      0.98       584\n",
      "         tsn       0.98      0.95      0.97       598\n",
      "         tso       0.99      1.00      1.00       561\n",
      "         ven       1.00      1.00      1.00       634\n",
      "         xho       0.97      0.97      0.97       609\n",
      "         zul       0.96      0.91      0.93       590\n",
      "\n",
      "    accuracy                           0.98      6600\n",
      "   macro avg       0.98      0.98      0.98      6600\n",
      "weighted avg       0.98      0.98      0.98      6600\n",
      "\n"
     ]
    }
   ],
   "source": [
    "#predicting the model and classification report \n",
    "knn_pred = Knn_mod.predict(X_test)\n",
    "print(\"The accuracy score of the K-Nearest Neighbors is:\" , accuracy_score(y_test, knn_pred))\n",
    "print(\"\\n\\nClassification Report:\\n\\n\", metrics.classification_report(y_test, knn_pred))"
   ]
  },
  {
   "cell_type": "markdown",
   "id": "a2ea4e6e",
   "metadata": {},
   "source": [
    "2. Logistic Regression "
   ]
  },
  {
   "cell_type": "code",
   "execution_count": 1021,
   "id": "2cdc0c4e",
   "metadata": {},
   "outputs": [
    {
     "data": {
      "text/plain": [
       "LogisticRegression(C=100.0, n_jobs=1)"
      ]
     },
     "execution_count": 1021,
     "metadata": {},
     "output_type": "execute_result"
    }
   ],
   "source": [
    "#defining and fitting the regression\n",
    "log_mod = LogisticRegression(n_jobs=1,\n",
    "                                  C=1e2)\n",
    "log_mod.fit(X_train, y_train)"
   ]
  },
  {
   "cell_type": "code",
   "execution_count": 1031,
   "id": "e135d0a7",
   "metadata": {},
   "outputs": [
    {
     "name": "stdout",
     "output_type": "stream",
     "text": [
      "The accuracy score of the Logistic Regression is: 0.9971212121212121\n",
      "\n",
      "\n",
      "Classification Report:\n",
      "\n",
      "               precision    recall  f1-score   support\n",
      "\n",
      "         afr       1.00      0.99      1.00       583\n",
      "         eng       1.00      1.00      1.00       615\n",
      "         nbl       0.99      1.00      0.99       583\n",
      "         nso       1.00      1.00      1.00       625\n",
      "         sot       1.00      1.00      1.00       618\n",
      "         ssw       0.99      1.00      1.00       584\n",
      "         tsn       1.00      1.00      1.00       598\n",
      "         tso       1.00      1.00      1.00       561\n",
      "         ven       1.00      1.00      1.00       634\n",
      "         xho       1.00      1.00      1.00       609\n",
      "         zul       0.99      0.99      0.99       590\n",
      "\n",
      "    accuracy                           1.00      6600\n",
      "   macro avg       1.00      1.00      1.00      6600\n",
      "weighted avg       1.00      1.00      1.00      6600\n",
      "\n"
     ]
    }
   ],
   "source": [
    "#predicting the model and classification report \n",
    "log_pred = log_mod.predict(X_test)\n",
    "print(\"The accuracy score of the Logistic Regression is:\",accuracy_score(y_test, log_pred))\n",
    "print(\"\\n\\nClassification Report:\\n\\n\", metrics.classification_report(y_test,log_pred))"
   ]
  },
  {
   "cell_type": "markdown",
   "id": "045553fb",
   "metadata": {},
   "source": [
    "3. Multinomial Naive Bayes "
   ]
  },
  {
   "cell_type": "code",
   "execution_count": 1023,
   "id": "31741871",
   "metadata": {},
   "outputs": [
    {
     "data": {
      "text/plain": [
       "GridSearchCV(cv=5, estimator=MultinomialNB(), n_jobs=1,\n",
       "             param_grid={'alpha': [0.1, 10, 50, 100]}, scoring='f1_weighted')"
      ]
     },
     "execution_count": 1023,
     "metadata": {},
     "output_type": "execute_result"
    }
   ],
   "source": [
    "parameters = {'alpha': [0.1, 10, 50, 100]} \n",
    "Naive_model = (GridSearchCV(MultinomialNB(),\n",
    "                            param_grid=parameters, \n",
    "                                           cv=5,\n",
    "                                           n_jobs=1,\n",
    "                                           scoring='f1_weighted'))\n",
    "Naive_model.fit(X_train, y_train)"
   ]
  },
  {
   "cell_type": "code",
   "execution_count": 1030,
   "id": "3dd91027",
   "metadata": {},
   "outputs": [
    {
     "name": "stdout",
     "output_type": "stream",
     "text": [
      "The accuracy score of the Multinomial Naive Bayes is: 0.9992424242424243\n",
      "\n",
      "\n",
      "Classification Report:\n",
      "\n",
      "               precision    recall  f1-score   support\n",
      "\n",
      "         afr       1.00      1.00      1.00       583\n",
      "         eng       1.00      1.00      1.00       615\n",
      "         nbl       1.00      1.00      1.00       583\n",
      "         nso       1.00      1.00      1.00       625\n",
      "         sot       1.00      1.00      1.00       618\n",
      "         ssw       1.00      1.00      1.00       584\n",
      "         tsn       1.00      1.00      1.00       598\n",
      "         tso       1.00      1.00      1.00       561\n",
      "         ven       1.00      1.00      1.00       634\n",
      "         xho       1.00      1.00      1.00       609\n",
      "         zul       1.00      1.00      1.00       590\n",
      "\n",
      "    accuracy                           1.00      6600\n",
      "   macro avg       1.00      1.00      1.00      6600\n",
      "weighted avg       1.00      1.00      1.00      6600\n",
      "\n"
     ]
    }
   ],
   "source": [
    "naive_pred = Naive_model.predict(X_test)\n",
    "print(\"The accuracy score of the Multinomial Naive Bayes is:\",accuracy_score(y_test, naive_pred))\n",
    "print(\"\\n\\nClassification Report:\\n\\n\", metrics.classification_report(y_test,naive_pred))"
   ]
  },
  {
   "cell_type": "markdown",
   "id": "20fcad19",
   "metadata": {},
   "source": [
    "# Model Perfomance"
   ]
  },
  {
   "cell_type": "markdown",
   "id": "2d75c110",
   "metadata": {},
   "source": [
    "The Accuracy ccores below: \n",
    "\n",
    "    K-Nearest Neighbors Model          97.57%\n",
    "    \n",
    "    Logistic Regression                99.71%\n",
    "    \n",
    "    Multinomial Naive Bayes            99.92%\n",
    "\n",
    "As per the above accuracy scores, it is evident that the Multinomial Naive Bayes produced the most valid predictions even though the other models are behind by a few margins. It was able to identify the language from the text and assign it correctly. The K-Nearest Neighbors was the lowest perfoming models in predictions. "
   ]
  },
  {
   "cell_type": "markdown",
   "id": "661fbb8e",
   "metadata": {},
   "source": [
    "# Model Evaluation "
   ]
  },
  {
   "cell_type": "code",
   "execution_count": 1033,
   "id": "8c232897",
   "metadata": {},
   "outputs": [],
   "source": [
    "# transforming the testing data using vectorizer\n",
    "fin_test = df_test['text']\n",
    "fin_test_vt = vt.transform(fin_test)"
   ]
  },
  {
   "cell_type": "code",
   "execution_count": 1034,
   "id": "7a04072d",
   "metadata": {},
   "outputs": [],
   "source": [
    "#assigning the transformed test data to the predictions knn model \n",
    "knn_pred = Knn_mod.predict(fin_test_vt)"
   ]
  },
  {
   "cell_type": "code",
   "execution_count": 1035,
   "id": "e0e2e682",
   "metadata": {},
   "outputs": [],
   "source": [
    "#assigning the transformed test data to the predictions logistic regression model\n",
    "log_pred = log_mod.predict(fin_test_vt)"
   ]
  },
  {
   "cell_type": "code",
   "execution_count": 1036,
   "id": "c2a5f6bb",
   "metadata": {},
   "outputs": [],
   "source": [
    "#assigning the transformed test data to the predictions logistic regression model\n",
    "naive_pred = Naive_model.predict(fin_test_vt)"
   ]
  },
  {
   "cell_type": "markdown",
   "id": "3e84f585",
   "metadata": {},
   "source": [
    "We can update the model predictions below: "
   ]
  },
  {
   "cell_type": "code",
   "execution_count": 1037,
   "id": "b6cd19a3",
   "metadata": {},
   "outputs": [
    {
     "data": {
      "text/html": [
       "<div>\n",
       "<style scoped>\n",
       "    .dataframe tbody tr th:only-of-type {\n",
       "        vertical-align: middle;\n",
       "    }\n",
       "\n",
       "    .dataframe tbody tr th {\n",
       "        vertical-align: top;\n",
       "    }\n",
       "\n",
       "    .dataframe thead th {\n",
       "        text-align: right;\n",
       "    }\n",
       "</style>\n",
       "<table border=\"1\" class=\"dataframe\">\n",
       "  <thead>\n",
       "    <tr style=\"text-align: right;\">\n",
       "      <th></th>\n",
       "      <th>index</th>\n",
       "      <th>text</th>\n",
       "      <th>tokens</th>\n",
       "      <th>lang_id</th>\n",
       "    </tr>\n",
       "  </thead>\n",
       "  <tbody>\n",
       "    <tr>\n",
       "      <th>0</th>\n",
       "      <td>1</td>\n",
       "      <td>mmasepala, fa maemo a a kgethegileng a letlele...</td>\n",
       "      <td>[mmasepala, ,, fa, maemo, a, a, kgethegileng, ...</td>\n",
       "      <td>tsn</td>\n",
       "    </tr>\n",
       "    <tr>\n",
       "      <th>1</th>\n",
       "      <td>2</td>\n",
       "      <td>uzakwaziswa ngokufaneleko nakungafuneka eminye...</td>\n",
       "      <td>[uzakwaziswa, ngokufaneleko, nakungafuneka, em...</td>\n",
       "      <td>nbl</td>\n",
       "    </tr>\n",
       "    <tr>\n",
       "      <th>2</th>\n",
       "      <td>3</td>\n",
       "      <td>tshivhumbeo tshi fana na ngano dza vhathu.</td>\n",
       "      <td>[tshivhumbeo, tshi, fana, na, ngano, dza, vhat...</td>\n",
       "      <td>ven</td>\n",
       "    </tr>\n",
       "    <tr>\n",
       "      <th>3</th>\n",
       "      <td>4</td>\n",
       "      <td>kube inja nelikati betingevakala kutsi titsini...</td>\n",
       "      <td>[kube, inja, nelikati, betingevakala, kutsi, t...</td>\n",
       "      <td>ssw</td>\n",
       "    </tr>\n",
       "    <tr>\n",
       "      <th>4</th>\n",
       "      <td>5</td>\n",
       "      <td>winste op buitelandse valuta.</td>\n",
       "      <td>[winste, op, buitelandse, valuta, .]</td>\n",
       "      <td>afr</td>\n",
       "    </tr>\n",
       "  </tbody>\n",
       "</table>\n",
       "</div>"
      ],
      "text/plain": [
       "   index                                               text  \\\n",
       "0      1  mmasepala, fa maemo a a kgethegileng a letlele...   \n",
       "1      2  uzakwaziswa ngokufaneleko nakungafuneka eminye...   \n",
       "2      3         tshivhumbeo tshi fana na ngano dza vhathu.   \n",
       "3      4  kube inja nelikati betingevakala kutsi titsini...   \n",
       "4      5                      winste op buitelandse valuta.   \n",
       "\n",
       "                                              tokens lang_id  \n",
       "0  [mmasepala, ,, fa, maemo, a, a, kgethegileng, ...     tsn  \n",
       "1  [uzakwaziswa, ngokufaneleko, nakungafuneka, em...     nbl  \n",
       "2  [tshivhumbeo, tshi, fana, na, ngano, dza, vhat...     ven  \n",
       "3  [kube, inja, nelikati, betingevakala, kutsi, t...     ssw  \n",
       "4               [winste, op, buitelandse, valuta, .]     afr  "
      ]
     },
     "execution_count": 1037,
     "metadata": {},
     "output_type": "execute_result"
    }
   ],
   "source": [
    "df_test['lang_id'] = naive_pred\n",
    "df_test.head()"
   ]
  },
  {
   "cell_type": "markdown",
   "id": "7c340bb9",
   "metadata": {},
   "source": [
    "Submission Overview "
   ]
  },
  {
   "cell_type": "code",
   "execution_count": 1038,
   "id": "bc5c0970",
   "metadata": {
    "scrolled": true
   },
   "outputs": [
    {
     "data": {
      "text/html": [
       "<div>\n",
       "<style scoped>\n",
       "    .dataframe tbody tr th:only-of-type {\n",
       "        vertical-align: middle;\n",
       "    }\n",
       "\n",
       "    .dataframe tbody tr th {\n",
       "        vertical-align: top;\n",
       "    }\n",
       "\n",
       "    .dataframe thead th {\n",
       "        text-align: right;\n",
       "    }\n",
       "</style>\n",
       "<table border=\"1\" class=\"dataframe\">\n",
       "  <thead>\n",
       "    <tr style=\"text-align: right;\">\n",
       "      <th></th>\n",
       "      <th>index</th>\n",
       "      <th>lang_id</th>\n",
       "    </tr>\n",
       "  </thead>\n",
       "  <tbody>\n",
       "    <tr>\n",
       "      <th>0</th>\n",
       "      <td>1</td>\n",
       "      <td>tsn</td>\n",
       "    </tr>\n",
       "    <tr>\n",
       "      <th>1</th>\n",
       "      <td>2</td>\n",
       "      <td>nbl</td>\n",
       "    </tr>\n",
       "    <tr>\n",
       "      <th>2</th>\n",
       "      <td>3</td>\n",
       "      <td>ven</td>\n",
       "    </tr>\n",
       "    <tr>\n",
       "      <th>3</th>\n",
       "      <td>4</td>\n",
       "      <td>ssw</td>\n",
       "    </tr>\n",
       "    <tr>\n",
       "      <th>4</th>\n",
       "      <td>5</td>\n",
       "      <td>afr</td>\n",
       "    </tr>\n",
       "  </tbody>\n",
       "</table>\n",
       "</div>"
      ],
      "text/plain": [
       "   index lang_id\n",
       "0      1     tsn\n",
       "1      2     nbl\n",
       "2      3     ven\n",
       "3      4     ssw\n",
       "4      5     afr"
      ]
     },
     "execution_count": 1038,
     "metadata": {},
     "output_type": "execute_result"
    }
   ],
   "source": [
    "df_submission = df_test[['index','lang_id']]\n",
    "df_submission.head()"
   ]
  },
  {
   "cell_type": "markdown",
   "id": "a52b4a33",
   "metadata": {},
   "source": [
    "# Model Submission "
   ]
  },
  {
   "cell_type": "code",
   "execution_count": 1042,
   "id": "f9da7da1",
   "metadata": {},
   "outputs": [],
   "source": [
    "df_submission.to_csv('model_knn.csv', index=False)"
   ]
  },
  {
   "cell_type": "code",
   "execution_count": 1045,
   "id": "06fbb680",
   "metadata": {},
   "outputs": [],
   "source": [
    "df_submission.to_csv('model_log_regress.csv', index=False)"
   ]
  },
  {
   "cell_type": "code",
   "execution_count": 1046,
   "id": "2de2aadd",
   "metadata": {},
   "outputs": [],
   "source": [
    "df_submission.to_csv('model_naive.csv', index=False)"
   ]
  },
  {
   "cell_type": "markdown",
   "id": "50892b57",
   "metadata": {},
   "source": [
    "# References "
   ]
  },
  {
   "cell_type": "markdown",
   "id": "ae96d038",
   "metadata": {},
   "source": [
    "How to Understand Machine Learning - Explore Academy "
   ]
  }
 ],
 "metadata": {
  "kernelspec": {
   "display_name": "Python 3 (ipykernel)",
   "language": "python",
   "name": "python3"
  },
  "language_info": {
   "codemirror_mode": {
    "name": "ipython",
    "version": 3
   },
   "file_extension": ".py",
   "mimetype": "text/x-python",
   "name": "python",
   "nbconvert_exporter": "python",
   "pygments_lexer": "ipython3",
   "version": "3.9.12"
  }
 },
 "nbformat": 4,
 "nbformat_minor": 5
}
